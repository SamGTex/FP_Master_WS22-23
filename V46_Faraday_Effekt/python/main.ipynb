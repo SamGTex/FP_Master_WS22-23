{
 "cells": [
  {
   "cell_type": "code",
   "execution_count": 49,
   "metadata": {},
   "outputs": [],
   "source": [
    "import numpy as np\n",
    "import pandas as pd\n",
    "from uncertainties import ufloat\n",
    "import uncertainties as unc\n",
    "\n",
    "import matplotlib.pyplot as plt\n",
    "\n",
    "from scipy.optimize import curve_fit\n",
    "from scipy.optimize import fmin"
   ]
  },
  {
   "attachments": {},
   "cell_type": "markdown",
   "metadata": {},
   "source": [
    "# 1. External magnetic field"
   ]
  },
  {
   "cell_type": "code",
   "execution_count": 2,
   "metadata": {},
   "outputs": [
    {
     "data": {
      "text/html": [
       "<div>\n",
       "<style scoped>\n",
       "    .dataframe tbody tr th:only-of-type {\n",
       "        vertical-align: middle;\n",
       "    }\n",
       "\n",
       "    .dataframe tbody tr th {\n",
       "        vertical-align: top;\n",
       "    }\n",
       "\n",
       "    .dataframe thead th {\n",
       "        text-align: right;\n",
       "    }\n",
       "</style>\n",
       "<table border=\"1\" class=\"dataframe\">\n",
       "  <thead>\n",
       "    <tr style=\"text-align: right;\">\n",
       "      <th></th>\n",
       "      <th>x</th>\n",
       "      <th>B</th>\n",
       "    </tr>\n",
       "  </thead>\n",
       "  <tbody>\n",
       "    <tr>\n",
       "      <th>0</th>\n",
       "      <td>70</td>\n",
       "      <td>1</td>\n",
       "    </tr>\n",
       "    <tr>\n",
       "      <th>1</th>\n",
       "      <td>75</td>\n",
       "      <td>5</td>\n",
       "    </tr>\n",
       "    <tr>\n",
       "      <th>2</th>\n",
       "      <td>80</td>\n",
       "      <td>2</td>\n",
       "    </tr>\n",
       "    <tr>\n",
       "      <th>3</th>\n",
       "      <td>85</td>\n",
       "      <td>95</td>\n",
       "    </tr>\n",
       "    <tr>\n",
       "      <th>4</th>\n",
       "      <td>90</td>\n",
       "      <td>257</td>\n",
       "    </tr>\n",
       "    <tr>\n",
       "      <th>5</th>\n",
       "      <td>92</td>\n",
       "      <td>317</td>\n",
       "    </tr>\n",
       "    <tr>\n",
       "      <th>6</th>\n",
       "      <td>94</td>\n",
       "      <td>362</td>\n",
       "    </tr>\n",
       "    <tr>\n",
       "      <th>7</th>\n",
       "      <td>96</td>\n",
       "      <td>387</td>\n",
       "    </tr>\n",
       "    <tr>\n",
       "      <th>8</th>\n",
       "      <td>98</td>\n",
       "      <td>399</td>\n",
       "    </tr>\n",
       "    <tr>\n",
       "      <th>9</th>\n",
       "      <td>100</td>\n",
       "      <td>401</td>\n",
       "    </tr>\n",
       "    <tr>\n",
       "      <th>10</th>\n",
       "      <td>102</td>\n",
       "      <td>394</td>\n",
       "    </tr>\n",
       "    <tr>\n",
       "      <th>11</th>\n",
       "      <td>104</td>\n",
       "      <td>376</td>\n",
       "    </tr>\n",
       "    <tr>\n",
       "      <th>12</th>\n",
       "      <td>106</td>\n",
       "      <td>341</td>\n",
       "    </tr>\n",
       "    <tr>\n",
       "      <th>13</th>\n",
       "      <td>108</td>\n",
       "      <td>288</td>\n",
       "    </tr>\n",
       "    <tr>\n",
       "      <th>14</th>\n",
       "      <td>110</td>\n",
       "      <td>220</td>\n",
       "    </tr>\n",
       "    <tr>\n",
       "      <th>15</th>\n",
       "      <td>115</td>\n",
       "      <td>70</td>\n",
       "    </tr>\n",
       "    <tr>\n",
       "      <th>16</th>\n",
       "      <td>120</td>\n",
       "      <td>17</td>\n",
       "    </tr>\n",
       "    <tr>\n",
       "      <th>17</th>\n",
       "      <td>125</td>\n",
       "      <td>4</td>\n",
       "    </tr>\n",
       "    <tr>\n",
       "      <th>18</th>\n",
       "      <td>130</td>\n",
       "      <td>1</td>\n",
       "    </tr>\n",
       "  </tbody>\n",
       "</table>\n",
       "</div>"
      ],
      "text/plain": [
       "      x    B\n",
       "0    70    1\n",
       "1    75    5\n",
       "2    80    2\n",
       "3    85   95\n",
       "4    90  257\n",
       "5    92  317\n",
       "6    94  362\n",
       "7    96  387\n",
       "8    98  399\n",
       "9   100  401\n",
       "10  102  394\n",
       "11  104  376\n",
       "12  106  341\n",
       "13  108  288\n",
       "14  110  220\n",
       "15  115   70\n",
       "16  120   17\n",
       "17  125    4\n",
       "18  130    1"
      ]
     },
     "execution_count": 2,
     "metadata": {},
     "output_type": "execute_result"
    }
   ],
   "source": [
    "df = pd.read_csv('data/magnetfeld_messung.csv')\n",
    "df \n",
    "#x in mm\n",
    "#B in mT"
   ]
  },
  {
   "cell_type": "code",
   "execution_count": 3,
   "metadata": {},
   "outputs": [],
   "source": [
    "ind_start = 3\n",
    "ind_end = 16"
   ]
  },
  {
   "cell_type": "code",
   "execution_count": 4,
   "metadata": {},
   "outputs": [],
   "source": [
    "def f(x,a,b,c):\n",
    "    return a*x**2 + b*x + c"
   ]
  },
  {
   "cell_type": "code",
   "execution_count": 5,
   "metadata": {},
   "outputs": [
    {
     "name": "stdout",
     "output_type": "stream",
     "text": [
      "a = -1.4+-0.038\n",
      "b = 2.9e+02+-7.6\n",
      "c = -1.4e+04+-3.8e+02\n"
     ]
    }
   ],
   "source": [
    "param, cov = curve_fit(f, df['x'][ind_start:ind_end], df['B'][ind_start:ind_end])\n",
    "\n",
    "name_list = ['a', 'b', 'c']\n",
    "\n",
    "for param_name, value, var in zip(name_list, param, np.diag(cov)):\n",
    "    print(f'{param_name} = {value:.2}+-{np.sqrt(var):.2}')"
   ]
  },
  {
   "cell_type": "code",
   "execution_count": 6,
   "metadata": {},
   "outputs": [],
   "source": [
    "x_lin = np.linspace(df['x'][ind_start], df['x'][ind_end-1], 1000)"
   ]
  },
  {
   "cell_type": "code",
   "execution_count": 7,
   "metadata": {},
   "outputs": [
    {
     "data": {
      "image/png": "[encoded data removed]",
      "text/plain": [
       "<Figure size 800x500 with 1 Axes>"
      ]
     },
     "metadata": {},
     "output_type": "display_data"
    }
   ],
   "source": [
    "plt.figure(figsize=(8,5), dpi=100)\n",
    "plt.plot(x_lin, f(x_lin, *param), label='Ausgleichsfunktion', color='#317873')\n",
    "plt.plot(df['x'][ind_start:ind_end], df['B'][ind_start:ind_end], 'o', color='#daa520', label='in Fit berücksichtigte Werte')\n",
    "plt.plot(df['x'], df['B'], 'x', color='k', label='Messwerte')\n",
    "\n",
    "plt.grid()\n",
    "plt.legend()\n",
    "plt.ylabel(r'$B \\,/\\, mT$')\n",
    "plt.xlabel(r'$x \\,/\\, mm$')\n",
    "\n",
    "plt.savefig('../figure/magnetfeld.pdf')\n",
    "plt.show()"
   ]
  },
  {
   "cell_type": "code",
   "execution_count": 8,
   "metadata": {},
   "outputs": [],
   "source": [
    "def f_mask(x):\n",
    "    return -f(x, *param)"
   ]
  },
  {
   "cell_type": "code",
   "execution_count": 9,
   "metadata": {},
   "outputs": [],
   "source": [
    "a = ufloat(param[0], np.sqrt(cov[0,0]))\n",
    "b = ufloat(param[1], np.sqrt(cov[1,1]))\n",
    "c = ufloat(param[2], np.sqrt(cov[2,2]))"
   ]
  },
  {
   "cell_type": "code",
   "execution_count": 10,
   "metadata": {},
   "outputs": [
    {
     "name": "stdout",
     "output_type": "stream",
     "text": [
      "Optimization terminated successfully.\n",
      "         Current function value: -399.487187\n",
      "         Iterations: 17\n",
      "         Function evaluations: 34\n",
      "\n",
      "Max. Magnetfeld:\n",
      "x = 99.55mm\n",
      "B = 399.49+/-922.77mT\n"
     ]
    }
   ],
   "source": [
    "x_max = fmin(f_mask, 100)[0]\n",
    "B_max = f(x_max, a, b, c)\n",
    "\n",
    "print()\n",
    "print('Max. Magnetfeld:')\n",
    "print(f'x = {x_max:.2f}mm')\n",
    "print(f'B = {B_max:.2f}mT')\n"
   ]
  },
  {
   "attachments": {},
   "cell_type": "markdown",
   "metadata": {},
   "source": [
    "# 2. Read in data and data preprocessing"
   ]
  },
  {
   "cell_type": "code",
   "execution_count": 11,
   "metadata": {},
   "outputs": [],
   "source": [
    "d_rein = 5.11 * 10**(-3) #m\n",
    "d_1 = 1.36 * 10**(-3) #m\n",
    "d_2 = 1.296 * 10**(-3) #m\n",
    "\n",
    "N_1 = 1.2 * 10**(18) *10**(6) #1/m^3\n",
    "N_2 = 2.8 * 10**(18) *10**(6) #1/m^3"
   ]
  },
  {
   "attachments": {},
   "cell_type": "markdown",
   "metadata": {},
   "source": [
    "## Hochreines GaAs"
   ]
  },
  {
   "cell_type": "code",
   "execution_count": 12,
   "metadata": {},
   "outputs": [],
   "source": [
    "df_rein_raw = pd.read_csv('data/GaAs_rein.csv')\n",
    "# lam in micro meter\n",
    "# Winkel t1/t2 in Grad\n",
    "# Winkel t1min/t2min in Gradminuten"
   ]
  },
  {
   "cell_type": "code",
   "execution_count": 13,
   "metadata": {},
   "outputs": [
    {
     "data": {
      "text/html": [
       "<div>\n",
       "<style scoped>\n",
       "    .dataframe tbody tr th:only-of-type {\n",
       "        vertical-align: middle;\n",
       "    }\n",
       "\n",
       "    .dataframe tbody tr th {\n",
       "        vertical-align: top;\n",
       "    }\n",
       "\n",
       "    .dataframe thead th {\n",
       "        text-align: right;\n",
       "    }\n",
       "</style>\n",
       "<table border=\"1\" class=\"dataframe\">\n",
       "  <thead>\n",
       "    <tr style=\"text-align: right;\">\n",
       "      <th></th>\n",
       "      <th>lam</th>\n",
       "      <th>t1</th>\n",
       "      <th>t2</th>\n",
       "      <th>theta</th>\n",
       "      <th>theta/d</th>\n",
       "    </tr>\n",
       "  </thead>\n",
       "  <tbody>\n",
       "    <tr>\n",
       "      <th>0</th>\n",
       "      <td>0.000001</td>\n",
       "      <td>1.554797</td>\n",
       "      <td>1.143191</td>\n",
       "      <td>0.205803</td>\n",
       "      <td>40.274639</td>\n",
       "    </tr>\n",
       "    <tr>\n",
       "      <th>1</th>\n",
       "      <td>0.000001</td>\n",
       "      <td>1.414298</td>\n",
       "      <td>1.163553</td>\n",
       "      <td>0.125373</td>\n",
       "      <td>24.534798</td>\n",
       "    </tr>\n",
       "    <tr>\n",
       "      <th>2</th>\n",
       "      <td>0.000001</td>\n",
       "      <td>1.368920</td>\n",
       "      <td>1.192642</td>\n",
       "      <td>0.088139</td>\n",
       "      <td>17.248361</td>\n",
       "    </tr>\n",
       "    <tr>\n",
       "      <th>3</th>\n",
       "      <td>0.000002</td>\n",
       "      <td>1.376774</td>\n",
       "      <td>1.192642</td>\n",
       "      <td>0.092066</td>\n",
       "      <td>18.016853</td>\n",
       "    </tr>\n",
       "    <tr>\n",
       "      <th>4</th>\n",
       "      <td>0.000002</td>\n",
       "      <td>1.272636</td>\n",
       "      <td>1.143191</td>\n",
       "      <td>0.064723</td>\n",
       "      <td>12.665876</td>\n",
       "    </tr>\n",
       "    <tr>\n",
       "      <th>5</th>\n",
       "      <td>0.000002</td>\n",
       "      <td>1.207186</td>\n",
       "      <td>1.125737</td>\n",
       "      <td>0.040724</td>\n",
       "      <td>7.969540</td>\n",
       "    </tr>\n",
       "    <tr>\n",
       "      <th>6</th>\n",
       "      <td>0.000002</td>\n",
       "      <td>0.863647</td>\n",
       "      <td>0.772017</td>\n",
       "      <td>0.045815</td>\n",
       "      <td>8.965732</td>\n",
       "    </tr>\n",
       "    <tr>\n",
       "      <th>7</th>\n",
       "      <td>0.000003</td>\n",
       "      <td>0.586140</td>\n",
       "      <td>0.523017</td>\n",
       "      <td>0.031561</td>\n",
       "      <td>6.176393</td>\n",
       "    </tr>\n",
       "    <tr>\n",
       "      <th>8</th>\n",
       "      <td>0.000003</td>\n",
       "      <td>1.136209</td>\n",
       "      <td>1.060288</td>\n",
       "      <td>0.037961</td>\n",
       "      <td>7.428750</td>\n",
       "    </tr>\n",
       "  </tbody>\n",
       "</table>\n",
       "</div>"
      ],
      "text/plain": [
       "        lam        t1        t2     theta    theta/d\n",
       "0  0.000001  1.554797  1.143191  0.205803  40.274639\n",
       "1  0.000001  1.414298  1.163553  0.125373  24.534798\n",
       "2  0.000001  1.368920  1.192642  0.088139  17.248361\n",
       "3  0.000002  1.376774  1.192642  0.092066  18.016853\n",
       "4  0.000002  1.272636  1.143191  0.064723  12.665876\n",
       "5  0.000002  1.207186  1.125737  0.040724   7.969540\n",
       "6  0.000002  0.863647  0.772017  0.045815   8.965732\n",
       "7  0.000003  0.586140  0.523017  0.031561   6.176393\n",
       "8  0.000003  1.136209  1.060288  0.037961   7.428750"
      ]
     },
     "execution_count": 13,
     "metadata": {},
     "output_type": "execute_result"
    }
   ],
   "source": [
    "df_rein = pd.DataFrame()\n",
    "df_rein['lam'] = df_rein_raw['lam']*10**(-6) #m\n",
    "df_rein['t1'] = np.deg2rad(df_rein_raw['t1'] + df_rein_raw['t1min']/60) #rad\n",
    "df_rein['t2'] = np.deg2rad(df_rein_raw['t2'] + df_rein_raw['t2min']/60) #rad\n",
    "df_rein['theta'] = 0.5*(df_rein['t1'] - df_rein['t2'])\n",
    "df_rein['theta/d'] = df_rein['theta']/d_rein\n",
    "\n",
    "df_rein"
   ]
  },
  {
   "attachments": {},
   "cell_type": "markdown",
   "metadata": {},
   "source": [
    "## GaAs n-dotiert 1"
   ]
  },
  {
   "cell_type": "code",
   "execution_count": 14,
   "metadata": {},
   "outputs": [],
   "source": [
    "df_n1_raw = pd.read_csv('data/GaAs_n1.csv')\n",
    "# lam in micro meter\n",
    "# Winkel t1/t2 in Grad\n",
    "# Winkel t1min/t2min in Gradminuten"
   ]
  },
  {
   "cell_type": "code",
   "execution_count": 15,
   "metadata": {},
   "outputs": [
    {
     "data": {
      "text/html": [
       "<div>\n",
       "<style scoped>\n",
       "    .dataframe tbody tr th:only-of-type {\n",
       "        vertical-align: middle;\n",
       "    }\n",
       "\n",
       "    .dataframe tbody tr th {\n",
       "        vertical-align: top;\n",
       "    }\n",
       "\n",
       "    .dataframe thead th {\n",
       "        text-align: right;\n",
       "    }\n",
       "</style>\n",
       "<table border=\"1\" class=\"dataframe\">\n",
       "  <thead>\n",
       "    <tr style=\"text-align: right;\">\n",
       "      <th></th>\n",
       "      <th>lam</th>\n",
       "      <th>t1</th>\n",
       "      <th>t2</th>\n",
       "      <th>theta</th>\n",
       "      <th>theta/d</th>\n",
       "    </tr>\n",
       "  </thead>\n",
       "  <tbody>\n",
       "    <tr>\n",
       "      <th>0</th>\n",
       "      <td>0.000001</td>\n",
       "      <td>1.362520</td>\n",
       "      <td>1.176643</td>\n",
       "      <td>0.092939</td>\n",
       "      <td>68.337340</td>\n",
       "    </tr>\n",
       "    <tr>\n",
       "      <th>1</th>\n",
       "      <td>0.000001</td>\n",
       "      <td>1.257510</td>\n",
       "      <td>1.140282</td>\n",
       "      <td>0.058614</td>\n",
       "      <td>43.098510</td>\n",
       "    </tr>\n",
       "    <tr>\n",
       "      <th>2</th>\n",
       "      <td>0.000001</td>\n",
       "      <td>1.270600</td>\n",
       "      <td>1.198459</td>\n",
       "      <td>0.036070</td>\n",
       "      <td>26.522160</td>\n",
       "    </tr>\n",
       "    <tr>\n",
       "      <th>3</th>\n",
       "      <td>0.000002</td>\n",
       "      <td>1.233366</td>\n",
       "      <td>1.131555</td>\n",
       "      <td>0.050905</td>\n",
       "      <td>37.430468</td>\n",
       "    </tr>\n",
       "    <tr>\n",
       "      <th>4</th>\n",
       "      <td>0.000002</td>\n",
       "      <td>1.178097</td>\n",
       "      <td>1.071923</td>\n",
       "      <td>0.053087</td>\n",
       "      <td>39.034631</td>\n",
       "    </tr>\n",
       "    <tr>\n",
       "      <th>5</th>\n",
       "      <td>0.000002</td>\n",
       "      <td>1.111193</td>\n",
       "      <td>0.999201</td>\n",
       "      <td>0.055996</td>\n",
       "      <td>41.173515</td>\n",
       "    </tr>\n",
       "    <tr>\n",
       "      <th>6</th>\n",
       "      <td>0.000002</td>\n",
       "      <td>0.795579</td>\n",
       "      <td>0.677770</td>\n",
       "      <td>0.058905</td>\n",
       "      <td>43.312399</td>\n",
       "    </tr>\n",
       "    <tr>\n",
       "      <th>7</th>\n",
       "      <td>0.000003</td>\n",
       "      <td>0.478511</td>\n",
       "      <td>0.453786</td>\n",
       "      <td>0.012363</td>\n",
       "      <td>9.090257</td>\n",
       "    </tr>\n",
       "    <tr>\n",
       "      <th>8</th>\n",
       "      <td>0.000003</td>\n",
       "      <td>1.099848</td>\n",
       "      <td>0.975057</td>\n",
       "      <td>0.062396</td>\n",
       "      <td>45.879059</td>\n",
       "    </tr>\n",
       "  </tbody>\n",
       "</table>\n",
       "</div>"
      ],
      "text/plain": [
       "        lam        t1        t2     theta    theta/d\n",
       "0  0.000001  1.362520  1.176643  0.092939  68.337340\n",
       "1  0.000001  1.257510  1.140282  0.058614  43.098510\n",
       "2  0.000001  1.270600  1.198459  0.036070  26.522160\n",
       "3  0.000002  1.233366  1.131555  0.050905  37.430468\n",
       "4  0.000002  1.178097  1.071923  0.053087  39.034631\n",
       "5  0.000002  1.111193  0.999201  0.055996  41.173515\n",
       "6  0.000002  0.795579  0.677770  0.058905  43.312399\n",
       "7  0.000003  0.478511  0.453786  0.012363   9.090257\n",
       "8  0.000003  1.099848  0.975057  0.062396  45.879059"
      ]
     },
     "execution_count": 15,
     "metadata": {},
     "output_type": "execute_result"
    }
   ],
   "source": [
    "df_n1 = pd.DataFrame()\n",
    "df_n1['lam'] = df_n1_raw['lam']*10**(-6) #m\n",
    "df_n1['t1'] = np.deg2rad(df_n1_raw['t1'] + df_n1_raw['t1min']/60) #rad\n",
    "df_n1['t2'] = np.deg2rad(df_n1_raw['t2'] + df_n1_raw['t2min']/60) #rad\n",
    "df_n1['theta'] = 0.5*(df_n1['t1'] - df_n1['t2'])\n",
    "df_n1['theta/d'] = df_n1['theta']/d_1\n",
    "\n",
    "df_n1"
   ]
  },
  {
   "attachments": {},
   "cell_type": "markdown",
   "metadata": {},
   "source": [
    "## GaAs n-dotiert 2"
   ]
  },
  {
   "cell_type": "code",
   "execution_count": 16,
   "metadata": {},
   "outputs": [],
   "source": [
    "df_n2_raw = pd.read_csv('data/GaAs_n2.csv')\n",
    "# lam in micro meter\n",
    "# Winkel t1/t2 in Grad\n",
    "# Winkel t1min/t2min in Gradminuten"
   ]
  },
  {
   "cell_type": "code",
   "execution_count": 17,
   "metadata": {},
   "outputs": [
    {
     "data": {
      "text/html": [
       "<div>\n",
       "<style scoped>\n",
       "    .dataframe tbody tr th:only-of-type {\n",
       "        vertical-align: middle;\n",
       "    }\n",
       "\n",
       "    .dataframe tbody tr th {\n",
       "        vertical-align: top;\n",
       "    }\n",
       "\n",
       "    .dataframe thead th {\n",
       "        text-align: right;\n",
       "    }\n",
       "</style>\n",
       "<table border=\"1\" class=\"dataframe\">\n",
       "  <thead>\n",
       "    <tr style=\"text-align: right;\">\n",
       "      <th></th>\n",
       "      <th>lam</th>\n",
       "      <th>t1</th>\n",
       "      <th>t2</th>\n",
       "      <th>theta</th>\n",
       "      <th>theta/d</th>\n",
       "    </tr>\n",
       "  </thead>\n",
       "  <tbody>\n",
       "    <tr>\n",
       "      <th>0</th>\n",
       "      <td>0.000001</td>\n",
       "      <td>1.375901</td>\n",
       "      <td>1.140282</td>\n",
       "      <td>0.117810</td>\n",
       "      <td>90.902565</td>\n",
       "    </tr>\n",
       "    <tr>\n",
       "      <th>1</th>\n",
       "      <td>0.000001</td>\n",
       "      <td>1.271181</td>\n",
       "      <td>1.069014</td>\n",
       "      <td>0.101084</td>\n",
       "      <td>77.996645</td>\n",
       "    </tr>\n",
       "    <tr>\n",
       "      <th>2</th>\n",
       "      <td>0.000001</td>\n",
       "      <td>1.317724</td>\n",
       "      <td>1.195551</td>\n",
       "      <td>0.061087</td>\n",
       "      <td>47.134663</td>\n",
       "    </tr>\n",
       "    <tr>\n",
       "      <th>3</th>\n",
       "      <td>0.000002</td>\n",
       "      <td>1.329359</td>\n",
       "      <td>1.153372</td>\n",
       "      <td>0.087994</td>\n",
       "      <td>67.896360</td>\n",
       "    </tr>\n",
       "    <tr>\n",
       "      <th>4</th>\n",
       "      <td>0.000002</td>\n",
       "      <td>1.220276</td>\n",
       "      <td>1.069014</td>\n",
       "      <td>0.075631</td>\n",
       "      <td>58.357202</td>\n",
       "    </tr>\n",
       "    <tr>\n",
       "      <th>5</th>\n",
       "      <td>0.000002</td>\n",
       "      <td>1.207186</td>\n",
       "      <td>1.055924</td>\n",
       "      <td>0.075631</td>\n",
       "      <td>58.357202</td>\n",
       "    </tr>\n",
       "    <tr>\n",
       "      <th>6</th>\n",
       "      <td>0.000002</td>\n",
       "      <td>0.907571</td>\n",
       "      <td>0.695223</td>\n",
       "      <td>0.106174</td>\n",
       "      <td>81.924534</td>\n",
       "    </tr>\n",
       "    <tr>\n",
       "      <th>7</th>\n",
       "      <td>0.000003</td>\n",
       "      <td>0.475020</td>\n",
       "      <td>0.219621</td>\n",
       "      <td>0.127700</td>\n",
       "      <td>98.533892</td>\n",
       "    </tr>\n",
       "    <tr>\n",
       "      <th>8</th>\n",
       "      <td>0.000003</td>\n",
       "      <td>1.186533</td>\n",
       "      <td>0.951204</td>\n",
       "      <td>0.117664</td>\n",
       "      <td>90.790340</td>\n",
       "    </tr>\n",
       "  </tbody>\n",
       "</table>\n",
       "</div>"
      ],
      "text/plain": [
       "        lam        t1        t2     theta    theta/d\n",
       "0  0.000001  1.375901  1.140282  0.117810  90.902565\n",
       "1  0.000001  1.271181  1.069014  0.101084  77.996645\n",
       "2  0.000001  1.317724  1.195551  0.061087  47.134663\n",
       "3  0.000002  1.329359  1.153372  0.087994  67.896360\n",
       "4  0.000002  1.220276  1.069014  0.075631  58.357202\n",
       "5  0.000002  1.207186  1.055924  0.075631  58.357202\n",
       "6  0.000002  0.907571  0.695223  0.106174  81.924534\n",
       "7  0.000003  0.475020  0.219621  0.127700  98.533892\n",
       "8  0.000003  1.186533  0.951204  0.117664  90.790340"
      ]
     },
     "execution_count": 17,
     "metadata": {},
     "output_type": "execute_result"
    }
   ],
   "source": [
    "df_n2 = pd.DataFrame()\n",
    "df_n2['lam'] = df_n2_raw['lam']*10**(-6) #m\n",
    "df_n2['t1'] = np.deg2rad(df_n2_raw['t1'] + df_n2_raw['t1min']/60) #rad\n",
    "df_n2['t2'] = np.deg2rad(df_n2_raw['t2'] + df_n2_raw['t2min']/60) #rad\n",
    "df_n2['theta'] = 0.5*(df_n2['t1'] - df_n2['t2'])\n",
    "df_n2['theta/d'] = df_n2['theta']/d_2\n",
    "\n",
    "df_n2"
   ]
  },
  {
   "attachments": {},
   "cell_type": "markdown",
   "metadata": {},
   "source": [
    "# 3. Plot $\\lambda^2$ against the rotation angle $\\theta$"
   ]
  },
  {
   "cell_type": "code",
   "execution_count": 18,
   "metadata": {},
   "outputs": [],
   "source": [
    "plt.rcParams.update({'font.size': 15})"
   ]
  },
  {
   "cell_type": "code",
   "execution_count": 28,
   "metadata": {},
   "outputs": [
    {
     "data": {
      "image/png": "[encoded data removed]",
      "text/plain": [
       "<Figure size 1000x700 with 1 Axes>"
      ]
     },
     "metadata": {},
     "output_type": "display_data"
    }
   ],
   "source": [
    "plt.figure(figsize=(10,7), dpi=100)\n",
    "plt.plot((df_rein['lam']*10**6)**2, df_rein['theta/d'], 'kx', label='Hochreines GaAs', markersize=8)\n",
    "plt.plot((df_n1['lam']*10**6)**2, df_n1['theta/d'], 'gx', label=f'GaAs n-dotiert, N = {N_1*10**(-6)} cm³', markersize=8)\n",
    "plt.plot((df_n2['lam']*10**6)**2, df_n2['theta/d'], 'bx', label=f'GaAs n-dotiert, N = {N_2*10**(-6)} cm³', markersize=8)\n",
    "\n",
    "\n",
    "plt.xlabel(r'$\\lambda^2 \\,/\\, \\mu m^2$')\n",
    "plt.ylabel(r'$\\frac{\\theta}{d} \\,/\\, \\frac{rad}{m}$')\n",
    "plt.legend()\n",
    "plt.grid()\n",
    "plt.savefig('../figure/theta_lam2.pdf')\n",
    "plt.show()"
   ]
  },
  {
   "attachments": {},
   "cell_type": "markdown",
   "metadata": {},
   "source": [
    "# 4. Calculate the difference between n-doted and hyperpure GaAs sample, linear Regression"
   ]
  },
  {
   "cell_type": "code",
   "execution_count": 29,
   "metadata": {},
   "outputs": [],
   "source": [
    "lam = df_n1['lam'].to_numpy()\n",
    "theta_n1_dif = (df_n1['theta/d'] - df_rein['theta/d']).to_numpy()\n",
    "theta_n2_dif = (df_n2['theta/d'] - df_rein['theta/d']).to_numpy()"
   ]
  },
  {
   "cell_type": "code",
   "execution_count": 30,
   "metadata": {},
   "outputs": [],
   "source": [
    "def f_lin(x, a):\n",
    "    return a*x"
   ]
  },
  {
   "cell_type": "code",
   "execution_count": 31,
   "metadata": {},
   "outputs": [
    {
     "name": "stdout",
     "output_type": "stream",
     "text": [
      "a1 = (5.1+/-1.1)e+12 rad/m^3\n"
     ]
    }
   ],
   "source": [
    "param1, cov1 = curve_fit(f_lin, lam**2, theta_n1_dif, p0=[10**(13)])\n",
    "a1 = ufloat(param1, np.sqrt(cov1))\n",
    "print(f'a1 = {a1} rad/m^3')"
   ]
  },
  {
   "cell_type": "code",
   "execution_count": 32,
   "metadata": {},
   "outputs": [
    {
     "name": "stdout",
     "output_type": "stream",
     "text": [
      "a1 = (1.35+/-0.14)e+13 rad/m^3\n"
     ]
    }
   ],
   "source": [
    "param2, cov2 = curve_fit(f_lin, lam**2, theta_n2_dif, p0=[10**(13)])\n",
    "a2 = ufloat(param2, np.sqrt(cov2))\n",
    "print(f'a1 = {a2} rad/m^3')"
   ]
  },
  {
   "cell_type": "code",
   "execution_count": 34,
   "metadata": {},
   "outputs": [
    {
     "data": {
      "image/png": "[encoded data removed]",
      "text/plain": [
       "<Figure size 1000x800 with 1 Axes>"
      ]
     },
     "metadata": {},
     "output_type": "display_data"
    }
   ],
   "source": [
    "plt.figure(figsize=(10,8), dpi=100)\n",
    "plt.plot((lam*10**6)**2, theta_n1_dif, 'rx', label = f'Messwerte GaAs n-dotiert, N = {N_1*10**(-6)} cm³')\n",
    "plt.plot((lam*10**6)**2, theta_n2_dif, 'bx', label = f'Messwerte GaAs n-dotiert, N = {N_2*10**(-6)} cm³')\n",
    "\n",
    "plt.plot((lam*10**6)**2, f_lin((lam*10**6)**2, a1.nominal_value), 'r--', label=f'Fit, N = {N_1*10**(-6)} cm³')\n",
    "plt.plot((lam*10**6)**2, f_lin((lam*10**6)**2, a2.nominal_value), 'b--', label=f'Fit, N = {N_2*10**(-6)} cm³')\n",
    "\n",
    "plt.xlabel(r'$\\lambda^2 \\,/\\, \\mu m^2$')\n",
    "plt.ylabel(r'$\\frac{\\theta}{d} \\,/\\, \\frac{rad}{m}$')\n",
    "\n",
    "plt.grid()\n",
    "plt.legend()\n",
    "plt.savefig('../figure/theta_lam2_dif.pdf')\n",
    "plt.show()"
   ]
  },
  {
   "attachments": {},
   "cell_type": "markdown",
   "metadata": {},
   "source": [
    "# 5. Effective mass"
   ]
  },
  {
   "attachments": {},
   "cell_type": "markdown",
   "metadata": {},
   "source": [
    "$\\huge \\theta_\\text{frei} = a \\cdot \\lambda^2$\n",
    "\n",
    "$\\huge \\text{mit} \\quad a = \\frac{e_0^3}{8 \\pi^2 \\epsilon_0 c^3} \\frac{1}{{m^*}^2} \\frac{N B}{n}$\n",
    "\n",
    "$\\huge \\Rightarrow m^* = \\sqrt{\\frac{e_0^3}{8 \\pi^2 \\epsilon_0 c^3} \\frac{1}{a} \\frac{N B}{n}}$"
   ]
  },
  {
   "cell_type": "code",
   "execution_count": 39,
   "metadata": {},
   "outputs": [],
   "source": [
    "e_0 = 1.602 *10**(-19) #C\n",
    "eps_0 = 8.854 *10**(-12) #A*s/V*m\n",
    "c_const = 299792458 #m/s\n",
    "n_brech = 3.346\n",
    "m_e = 9.109 * 10**(-31) #kg"
   ]
  },
  {
   "cell_type": "code",
   "execution_count": 68,
   "metadata": {},
   "outputs": [],
   "source": [
    "def m_func(a, N, B):\n",
    "    _ = e_0**3 * N * B / (8 * np.pi**2 * eps_0 * c_const**3 * n_brech * a)\n",
    "    return _**(1/2)"
   ]
  },
  {
   "cell_type": "code",
   "execution_count": 69,
   "metadata": {},
   "outputs": [
    {
     "name": "stdout",
     "output_type": "stream",
     "text": [
      "m1* = (7.9+/-0.9)e-32 Kg = 0.086+/-0.009 m_e\n"
     ]
    }
   ],
   "source": [
    "m1 = m_func(a1, N_1, B_max.nominal_value*10**(-3))\n",
    "print(f'm1* = {m1} Kg = {m1/m_e} m_e')"
   ]
  },
  {
   "cell_type": "code",
   "execution_count": 72,
   "metadata": {},
   "outputs": [
    {
     "name": "stdout",
     "output_type": "stream",
     "text": [
      "m2* = (7.3+/-0.4)e-32 Kg = 0.081+/-0.004 m_e\n"
     ]
    }
   ],
   "source": [
    "m2 = m_func(a2, N_2, B_max.nominal_value*10**(-3))\n",
    "print(f'm2* = {m2} Kg = {m2/m_e} m_e')"
   ]
  },
  {
   "attachments": {},
   "cell_type": "markdown",
   "metadata": {},
   "source": [
    "# 6. Deviation to theoretical value"
   ]
  },
  {
   "cell_type": "code",
   "execution_count": 73,
   "metadata": {},
   "outputs": [],
   "source": [
    "m_th = 0.067 #m_e"
   ]
  },
  {
   "cell_type": "code",
   "execution_count": 77,
   "metadata": {},
   "outputs": [
    {
     "name": "stdout",
     "output_type": "stream",
     "text": [
      "Deviation of the effective mass to the theoretical value:\n",
      "N_1: 29+/-14%\n",
      "N_2: 20+/-6%\n"
     ]
    }
   ],
   "source": [
    "print('Deviation of the effective mass to the theoretical value:')\n",
    "print(f'N_1: {((m1/m_e)-m_th)*100/m_th}%')\n",
    "print(f'N_2: {((m2/m_e)-m_th)*100/m_th}%')"
   ]
  }
 ],
 "metadata": {
  "kernelspec": {
   "display_name": "fp",
   "language": "python",
   "name": "python3"
  },
  "language_info": {
   "codemirror_mode": {
    "name": "ipython",
    "version": 3
   },
   "file_extension": ".py",
   "mimetype": "text/x-python",
   "name": "python",
   "nbconvert_exporter": "python",
   "pygments_lexer": "ipython3",
   "version": "3.10.8"
  },
  "orig_nbformat": 4,
  "vscode": {
   "interpreter": {
    "hash": "7977a390b435fdc3ea8b23c9fd0d1b797cd959861e2dadc304db24e3a655008f"
   }
  }
 },
 "nbformat": 4,
 "nbformat_minor": 2
}

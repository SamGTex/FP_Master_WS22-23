{
 "cells": [
  {
   "cell_type": "code",
   "execution_count": 1,
   "metadata": {},
   "outputs": [],
   "source": [
    "import numpy as np\n",
    "import matplotlib.pyplot as plt\n",
    "from scipy.optimize import curve_fit\n",
    "import pandas as pd\n",
    "from uncertainties import ufloat\n",
    "import uncertainties.unumpy as unp "
   ]
  },
  {
   "cell_type": "code",
   "execution_count": 2,
   "metadata": {},
   "outputs": [],
   "source": [
    "def f(I_max, I_min):\n",
    "    return (I_max-I_min)/(I_max + I_min)"
   ]
  },
  {
   "cell_type": "code",
   "execution_count": 3,
   "metadata": {},
   "outputs": [
    {
     "data": {
      "text/plain": [
       "0.8333333333333334"
      ]
     },
     "execution_count": 3,
     "metadata": {},
     "output_type": "execute_result"
    }
   ],
   "source": [
    "f(2.75, 0.25)"
   ]
  },
  {
   "cell_type": "code",
   "execution_count": 4,
   "metadata": {},
   "outputs": [
    {
     "data": {
      "text/plain": [
       "0.9452054794520548"
      ]
     },
     "execution_count": 4,
     "metadata": {},
     "output_type": "execute_result"
    }
   ],
   "source": [
    "f(2.84,0.08)"
   ]
  },
  {
   "cell_type": "code",
   "execution_count": 5,
   "metadata": {},
   "outputs": [],
   "source": [
    "df = pd.read_csv('kontrast.csv')\n",
    "df\n",
    "\n",
    "I_err = 0.01\n",
    "\n",
    "phi = df[\"phi\"].to_numpy()\n",
    "phi_rad = np.deg2rad(phi)\n",
    "I_min = unp.uarray( df[\"I_min\"].to_numpy(), I_err)\n",
    "I_max = unp.uarray( df[\"I_max\"].to_numpy(), I_err)\n",
    "\n"
   ]
  },
  {
   "cell_type": "code",
   "execution_count": 6,
   "metadata": {},
   "outputs": [
    {
     "data": {
      "text/html": [
       "<div>\n",
       "<style scoped>\n",
       "    .dataframe tbody tr th:only-of-type {\n",
       "        vertical-align: middle;\n",
       "    }\n",
       "\n",
       "    .dataframe tbody tr th {\n",
       "        vertical-align: top;\n",
       "    }\n",
       "\n",
       "    .dataframe thead th {\n",
       "        text-align: right;\n",
       "    }\n",
       "</style>\n",
       "<table border=\"1\" class=\"dataframe\">\n",
       "  <thead>\n",
       "    <tr style=\"text-align: right;\">\n",
       "      <th></th>\n",
       "      <th>phi</th>\n",
       "      <th>I_min</th>\n",
       "      <th>I_max</th>\n",
       "    </tr>\n",
       "  </thead>\n",
       "  <tbody>\n",
       "    <tr>\n",
       "      <th>0</th>\n",
       "      <td>0</td>\n",
       "      <td>0.80</td>\n",
       "      <td>0.99</td>\n",
       "    </tr>\n",
       "    <tr>\n",
       "      <th>1</th>\n",
       "      <td>15</td>\n",
       "      <td>0.48</td>\n",
       "      <td>0.82</td>\n",
       "    </tr>\n",
       "    <tr>\n",
       "      <th>2</th>\n",
       "      <td>30</td>\n",
       "      <td>0.13</td>\n",
       "      <td>0.77</td>\n",
       "    </tr>\n",
       "    <tr>\n",
       "      <th>3</th>\n",
       "      <td>45</td>\n",
       "      <td>0.10</td>\n",
       "      <td>0.74</td>\n",
       "    </tr>\n",
       "    <tr>\n",
       "      <th>4</th>\n",
       "      <td>50</td>\n",
       "      <td>0.06</td>\n",
       "      <td>0.84</td>\n",
       "    </tr>\n",
       "    <tr>\n",
       "      <th>5</th>\n",
       "      <td>55</td>\n",
       "      <td>0.04</td>\n",
       "      <td>0.91</td>\n",
       "    </tr>\n",
       "    <tr>\n",
       "      <th>6</th>\n",
       "      <td>60</td>\n",
       "      <td>0.05</td>\n",
       "      <td>0.97</td>\n",
       "    </tr>\n",
       "    <tr>\n",
       "      <th>7</th>\n",
       "      <td>65</td>\n",
       "      <td>0.09</td>\n",
       "      <td>1.07</td>\n",
       "    </tr>\n",
       "    <tr>\n",
       "      <th>8</th>\n",
       "      <td>80</td>\n",
       "      <td>0.43</td>\n",
       "      <td>1.20</td>\n",
       "    </tr>\n",
       "    <tr>\n",
       "      <th>9</th>\n",
       "      <td>95</td>\n",
       "      <td>0.92</td>\n",
       "      <td>1.22</td>\n",
       "    </tr>\n",
       "    <tr>\n",
       "      <th>10</th>\n",
       "      <td>110</td>\n",
       "      <td>0.54</td>\n",
       "      <td>1.95</td>\n",
       "    </tr>\n",
       "    <tr>\n",
       "      <th>11</th>\n",
       "      <td>125</td>\n",
       "      <td>0.20</td>\n",
       "      <td>2.85</td>\n",
       "    </tr>\n",
       "    <tr>\n",
       "      <th>12</th>\n",
       "      <td>130</td>\n",
       "      <td>0.15</td>\n",
       "      <td>3.00</td>\n",
       "    </tr>\n",
       "    <tr>\n",
       "      <th>13</th>\n",
       "      <td>135</td>\n",
       "      <td>0.14</td>\n",
       "      <td>2.80</td>\n",
       "    </tr>\n",
       "    <tr>\n",
       "      <th>14</th>\n",
       "      <td>140</td>\n",
       "      <td>0.14</td>\n",
       "      <td>2.89</td>\n",
       "    </tr>\n",
       "    <tr>\n",
       "      <th>15</th>\n",
       "      <td>145</td>\n",
       "      <td>0.23</td>\n",
       "      <td>2.55</td>\n",
       "    </tr>\n",
       "    <tr>\n",
       "      <th>16</th>\n",
       "      <td>160</td>\n",
       "      <td>0.56</td>\n",
       "      <td>2.16</td>\n",
       "    </tr>\n",
       "    <tr>\n",
       "      <th>17</th>\n",
       "      <td>170</td>\n",
       "      <td>0.78</td>\n",
       "      <td>1.54</td>\n",
       "    </tr>\n",
       "    <tr>\n",
       "      <th>18</th>\n",
       "      <td>180</td>\n",
       "      <td>0.81</td>\n",
       "      <td>1.01</td>\n",
       "    </tr>\n",
       "  </tbody>\n",
       "</table>\n",
       "</div>"
      ],
      "text/plain": [
       "    phi  I_min  I_max\n",
       "0     0   0.80   0.99\n",
       "1    15   0.48   0.82\n",
       "2    30   0.13   0.77\n",
       "3    45   0.10   0.74\n",
       "4    50   0.06   0.84\n",
       "5    55   0.04   0.91\n",
       "6    60   0.05   0.97\n",
       "7    65   0.09   1.07\n",
       "8    80   0.43   1.20\n",
       "9    95   0.92   1.22\n",
       "10  110   0.54   1.95\n",
       "11  125   0.20   2.85\n",
       "12  130   0.15   3.00\n",
       "13  135   0.14   2.80\n",
       "14  140   0.14   2.89\n",
       "15  145   0.23   2.55\n",
       "16  160   0.56   2.16\n",
       "17  170   0.78   1.54\n",
       "18  180   0.81   1.01"
      ]
     },
     "execution_count": 6,
     "metadata": {},
     "output_type": "execute_result"
    }
   ],
   "source": [
    "df"
   ]
  },
  {
   "cell_type": "code",
   "execution_count": 7,
   "metadata": {},
   "outputs": [
    {
     "name": "stdout",
     "output_type": "stream",
     "text": [
      "[0.10614525139664802+/-0.007945017254390563\n",
      " 0.26153846153846155+/-0.011244471971805638\n",
      " 0.7111111111111111+/-0.019281405437387298\n",
      " 0.761904761904762+/-0.02116570827958557\n",
      " 0.8666666666666668+/-0.02079358347795289\n",
      " 0.9157894736842105+/-0.020185677487957233\n",
      " 0.9019607843137254+/-0.018671430313860943\n",
      " 0.8448275862068966+/-0.015959845060102396\n",
      " 0.47239263803680986+/-0.009595510968178823\n",
      " 0.14018691588785043+/-0.00667309474885634\n",
      " 0.5662650602409638+/-0.006526953589361686\n",
      " 0.8688524590163933+/-0.00614245401866666\n",
      " 0.9047619047619048+/-0.006054417050491545\n",
      " 0.9047619047619047+/-0.006486875411240942\n",
      " 0.9075907590759075+/-0.006303061826969608\n",
      " 0.8345323741007195+/-0.0066258256259081666\n",
      " 0.5882352941176471+/-0.006032147785891588\n",
      " 0.3275862068965517+/-0.006414490376646874\n",
      " 0.10989010989010986+/-0.00781718046127801]\n"
     ]
    }
   ],
   "source": [
    "K = f(I_max, I_min)\n",
    "print(K)"
   ]
  },
  {
   "cell_type": "code",
   "execution_count": 8,
   "metadata": {},
   "outputs": [],
   "source": [
    "def f_sin(x, A):\n",
    "    return A* np.abs(np.sin(x)*np.cos(x))"
   ]
  },
  {
   "cell_type": "code",
   "execution_count": 9,
   "metadata": {},
   "outputs": [
    {
     "name": "stdout",
     "output_type": "stream",
     "text": [
      "[1.82323088]\n",
      "[0.0050143]\n"
     ]
    }
   ],
   "source": [
    "param, cov = curve_fit(f_sin, phi_rad, unp.nominal_values(K), sigma=unp.std_devs(K), absolute_sigma=True)\n",
    "uncertainties = np.sqrt(np.diag(cov))\n",
    "print(param)\n",
    "print(uncertainties)"
   ]
  },
  {
   "cell_type": "code",
   "execution_count": 13,
   "metadata": {},
   "outputs": [
    {
     "data": {
      "image/png": "[encoded data removed]",
      "text/plain": [
       "<Figure size 600x500 with 1 Axes>"
      ]
     },
     "metadata": {},
     "output_type": "display_data"
    }
   ],
   "source": [
    "phi_lin = np.linspace(phi_rad.min(), phi_rad.max(), 100)\n",
    "plt.figure(figsize=(6,5))\n",
    "\n",
    "plt.errorbar(phi_rad, unp.nominal_values(K), yerr=unp.std_devs(K),  fmt='k.', label='Kontrast')\n",
    "plt.plot(phi_lin, f_sin(phi_lin, *param), 'r-', label='Fit')\n",
    "\n",
    "range_ = np.arange(0, np.pi+np.pi/2, step=(np.pi / 2))\n",
    "plt.xticks(range_, ['0', 'π/2', 'π'])\n",
    "\n",
    "plt.xlabel(r\"$\\theta \\, / \\, \\mathrm{rad}$\")\n",
    "plt.ylabel('K')\n",
    "plt.legend()\n",
    "plt.savefig(\"kontrast.png\")\n",
    "plt.show()\n"
   ]
  },
  {
   "cell_type": "code",
   "execution_count": 15,
   "metadata": {},
   "outputs": [],
   "source": [
    "lambda_0 = 632.990 *10**(-6) #mm\n",
    "theta = 10*(2*np.pi/360) #rad\n",
    "D = 1 #mm\n",
    "\n",
    "def n(M):\n",
    "    return 1/(1 -  (M*lambda_0)/(2*D*theta*theta)  )\n"
   ]
  },
  {
   "cell_type": "code",
   "execution_count": 16,
   "metadata": {},
   "outputs": [
    {
     "name": "stdout",
     "output_type": "stream",
     "text": [
      "[1.49807656 1.57145515 1.52176263 1.62450261 1.49807656 1.65239243\n",
      " 1.43124504 1.59753863 1.54620974 1.54620974]\n",
      "[1.4980765625123769+/-0.02331740076989133\n",
      " 1.5714551545289521+/-0.02565760423333317\n",
      " 1.521762634447546+/-0.02406057215615726\n",
      " 1.62450260523213+/-0.027419084031725622\n",
      " 1.4980765625123769+/-0.02331740076989133\n",
      " 1.6523924261784622+/-0.028368639576670587\n",
      " 1.4312450367602714+/-0.02128335581002205\n",
      " 1.5975386312543645+/-0.026516417974880663\n",
      " 1.5462097395110534+/-0.02483984761905253\n",
      " 1.5462097395110534+/-0.02483984761905253]\n",
      "1.5487469092448585\n",
      "1.549+/-0.008\n"
     ]
    }
   ],
   "source": [
    "M = np.array([32, 35, 33, 37, 32, 38, 29, 36, 34, 34])\n",
    "M_err = unp.uarray(M, 1)\n",
    "\n",
    "print(n(M))\n",
    "print(n(M_err))\n",
    "\n",
    "print(np.mean(n(M)))\n",
    "print(np.mean(n(M_err)))"
   ]
  },
  {
   "cell_type": "code",
   "execution_count": 17,
   "metadata": {},
   "outputs": [],
   "source": [
    "df2 = pd.read_csv('index.csv')\n",
    "n_err = 1\n",
    "\n",
    "p = df2[\"p\"].to_numpy()\n",
    "m_1 = unp.uarray( df2[\"n_1\"].to_numpy(), n_err)\n",
    "m_2 = unp.uarray( df2[\"n_2\"].to_numpy(), n_err)\n",
    "m_3 = unp.uarray( df2[\"n_3\"].to_numpy(), n_err)"
   ]
  },
  {
   "cell_type": "code",
   "execution_count": 18,
   "metadata": {},
   "outputs": [
    {
     "data": {
      "image/png": "[encoded data removed]",
      "text/plain": [
       "<Figure size 600x500 with 1 Axes>"
      ]
     },
     "metadata": {},
     "output_type": "display_data"
    }
   ],
   "source": [
    "plt.figure(figsize=(6,5))\n",
    "\n",
    "plt.errorbar(p, unp.nominal_values(m_1), yerr=unp.std_devs(m_1),  fmt='k.', label='Messung 1')\n",
    "plt.errorbar(p, unp.nominal_values(m_2), yerr=unp.std_devs(m_2),  fmt='r.', label='Messung 2')\n",
    "plt.errorbar(p, unp.nominal_values(m_3), yerr=unp.std_devs(m_3),  fmt='b.', label='Messung 3')\n",
    "\n",
    "plt.xlabel(r\"$p \\, / \\, \\mathrm{mbar}$\")\n",
    "plt.ylabel('M')\n",
    "plt.legend()\n",
    "plt.show()"
   ]
  },
  {
   "cell_type": "code",
   "execution_count": 33,
   "metadata": {},
   "outputs": [],
   "source": [
    "L = ufloat(100, 0.1)\n",
    "\n",
    "def n_gas(M):\n",
    "    return ((lambda_0 * M)/L) + 1\n",
    "\n",
    "n_1 = n_gas(m_1)\n",
    "n_2 = n_gas(m_2)\n",
    "n_3 = n_gas(m_3)"
   ]
  },
  {
   "cell_type": "code",
   "execution_count": 20,
   "metadata": {},
   "outputs": [
    {
     "data": {
      "image/png": "[encoded data removed]",
      "text/plain": [
       "<Figure size 600x500 with 1 Axes>"
      ]
     },
     "metadata": {},
     "output_type": "display_data"
    }
   ],
   "source": [
    "plt.figure(figsize=(6,5))\n",
    "\n",
    "plt.errorbar(p, unp.nominal_values(n_1), yerr=unp.std_devs(n_1),  fmt='k.', label='Messung 1')\n",
    "plt.errorbar(p, unp.nominal_values(n_2), yerr=unp.std_devs(n_2),  fmt='r.', label='Messung 2')\n",
    "plt.errorbar(p, unp.nominal_values(n_3), yerr=unp.std_devs(n_3),  fmt='b.', label='Messung 3')\n",
    "\n",
    "plt.xlabel(r\"$p \\, / \\, \\mathrm{mbar}$\")\n",
    "plt.ylabel('n')\n",
    "plt.legend()\n",
    "plt.show()"
   ]
  },
  {
   "cell_type": "code",
   "execution_count": 52,
   "metadata": {},
   "outputs": [],
   "source": [
    "T_1 = 19.9 + 273.15 #Kelvin\n",
    "T_0 = 15 + 273.15 #Kelvin\n",
    "p_0 = 1013 * 100 #pa\n",
    "R = 8.314 #J/mol K\n",
    "p = df2[\"p\"].to_numpy() #mbar"
   ]
  },
  {
   "cell_type": "code",
   "execution_count": 53,
   "metadata": {},
   "outputs": [
    {
     "data": {
      "text/html": [
       "<div>\n",
       "<style scoped>\n",
       "    .dataframe tbody tr th:only-of-type {\n",
       "        vertical-align: middle;\n",
       "    }\n",
       "\n",
       "    .dataframe tbody tr th {\n",
       "        vertical-align: top;\n",
       "    }\n",
       "\n",
       "    .dataframe thead th {\n",
       "        text-align: right;\n",
       "    }\n",
       "</style>\n",
       "<table border=\"1\" class=\"dataframe\">\n",
       "  <thead>\n",
       "    <tr style=\"text-align: right;\">\n",
       "      <th></th>\n",
       "      <th>p</th>\n",
       "      <th>n_1</th>\n",
       "      <th>N_1</th>\n",
       "      <th>n_2</th>\n",
       "      <th>N_2</th>\n",
       "      <th>n_3</th>\n",
       "      <th>N_3</th>\n",
       "    </tr>\n",
       "  </thead>\n",
       "  <tbody>\n",
       "    <tr>\n",
       "      <th>0</th>\n",
       "      <td>50</td>\n",
       "      <td>3.0+/-1.0</td>\n",
       "      <td>1.000019+/-0.000006</td>\n",
       "      <td>3.0+/-1.0</td>\n",
       "      <td>1.000013+/-0.000006</td>\n",
       "      <td>3.0+/-1.0</td>\n",
       "      <td>1.000013+/-0.000006</td>\n",
       "    </tr>\n",
       "    <tr>\n",
       "      <th>1</th>\n",
       "      <td>100</td>\n",
       "      <td>5.0+/-1.0</td>\n",
       "      <td>1.000032+/-0.000006</td>\n",
       "      <td>5.0+/-1.0</td>\n",
       "      <td>1.000025+/-0.000006</td>\n",
       "      <td>5.0+/-1.0</td>\n",
       "      <td>1.000025+/-0.000006</td>\n",
       "    </tr>\n",
       "    <tr>\n",
       "      <th>2</th>\n",
       "      <td>150</td>\n",
       "      <td>7.0+/-1.0</td>\n",
       "      <td>1.000044+/-0.000006</td>\n",
       "      <td>7.0+/-1.0</td>\n",
       "      <td>1.000038+/-0.000006</td>\n",
       "      <td>7.0+/-1.0</td>\n",
       "      <td>1.000038+/-0.000006</td>\n",
       "    </tr>\n",
       "    <tr>\n",
       "      <th>3</th>\n",
       "      <td>200</td>\n",
       "      <td>9.0+/-1.0</td>\n",
       "      <td>1.000057+/-0.000006</td>\n",
       "      <td>9.0+/-1.0</td>\n",
       "      <td>1.000057+/-0.000006</td>\n",
       "      <td>9.0+/-1.0</td>\n",
       "      <td>1.000051+/-0.000006</td>\n",
       "    </tr>\n",
       "    <tr>\n",
       "      <th>4</th>\n",
       "      <td>250</td>\n",
       "      <td>11.0+/-1.0</td>\n",
       "      <td>1.000070+/-0.000006</td>\n",
       "      <td>11.0+/-1.0</td>\n",
       "      <td>1.000070+/-0.000006</td>\n",
       "      <td>11.0+/-1.0</td>\n",
       "      <td>1.000070+/-0.000006</td>\n",
       "    </tr>\n",
       "    <tr>\n",
       "      <th>5</th>\n",
       "      <td>300</td>\n",
       "      <td>13.0+/-1.0</td>\n",
       "      <td>1.000082+/-0.000006</td>\n",
       "      <td>13.0+/-1.0</td>\n",
       "      <td>1.000082+/-0.000006</td>\n",
       "      <td>13.0+/-1.0</td>\n",
       "      <td>1.000082+/-0.000006</td>\n",
       "    </tr>\n",
       "    <tr>\n",
       "      <th>6</th>\n",
       "      <td>350</td>\n",
       "      <td>15.0+/-1.0</td>\n",
       "      <td>1.000095+/-0.000006</td>\n",
       "      <td>15.0+/-1.0</td>\n",
       "      <td>1.000095+/-0.000006</td>\n",
       "      <td>15.0+/-1.0</td>\n",
       "      <td>1.000095+/-0.000006</td>\n",
       "    </tr>\n",
       "    <tr>\n",
       "      <th>7</th>\n",
       "      <td>400</td>\n",
       "      <td>17.0+/-1.0</td>\n",
       "      <td>1.000108+/-0.000006</td>\n",
       "      <td>17.0+/-1.0</td>\n",
       "      <td>1.000108+/-0.000006</td>\n",
       "      <td>17.0+/-1.0</td>\n",
       "      <td>1.000108+/-0.000006</td>\n",
       "    </tr>\n",
       "    <tr>\n",
       "      <th>8</th>\n",
       "      <td>450</td>\n",
       "      <td>19.0+/-1.0</td>\n",
       "      <td>1.000120+/-0.000006</td>\n",
       "      <td>19.0+/-1.0</td>\n",
       "      <td>1.000120+/-0.000006</td>\n",
       "      <td>19.0+/-1.0</td>\n",
       "      <td>1.000120+/-0.000006</td>\n",
       "    </tr>\n",
       "    <tr>\n",
       "      <th>9</th>\n",
       "      <td>500</td>\n",
       "      <td>21.0+/-1.0</td>\n",
       "      <td>1.000133+/-0.000006</td>\n",
       "      <td>21.0+/-1.0</td>\n",
       "      <td>1.000133+/-0.000006</td>\n",
       "      <td>21.0+/-1.0</td>\n",
       "      <td>1.000133+/-0.000006</td>\n",
       "    </tr>\n",
       "    <tr>\n",
       "      <th>10</th>\n",
       "      <td>550</td>\n",
       "      <td>23.0+/-1.0</td>\n",
       "      <td>1.000146+/-0.000006</td>\n",
       "      <td>23.0+/-1.0</td>\n",
       "      <td>1.000146+/-0.000006</td>\n",
       "      <td>23.0+/-1.0</td>\n",
       "      <td>1.000146+/-0.000006</td>\n",
       "    </tr>\n",
       "    <tr>\n",
       "      <th>11</th>\n",
       "      <td>600</td>\n",
       "      <td>25.0+/-1.0</td>\n",
       "      <td>1.000158+/-0.000006</td>\n",
       "      <td>25.0+/-1.0</td>\n",
       "      <td>1.000158+/-0.000006</td>\n",
       "      <td>25.0+/-1.0</td>\n",
       "      <td>1.000158+/-0.000006</td>\n",
       "    </tr>\n",
       "    <tr>\n",
       "      <th>12</th>\n",
       "      <td>650</td>\n",
       "      <td>27.0+/-1.0</td>\n",
       "      <td>1.000171+/-0.000006</td>\n",
       "      <td>27.0+/-1.0</td>\n",
       "      <td>1.000171+/-0.000006</td>\n",
       "      <td>27.0+/-1.0</td>\n",
       "      <td>1.000171+/-0.000006</td>\n",
       "    </tr>\n",
       "    <tr>\n",
       "      <th>13</th>\n",
       "      <td>700</td>\n",
       "      <td>30.0+/-1.0</td>\n",
       "      <td>1.000190+/-0.000006</td>\n",
       "      <td>30.0+/-1.0</td>\n",
       "      <td>1.000190+/-0.000006</td>\n",
       "      <td>30.0+/-1.0</td>\n",
       "      <td>1.000190+/-0.000006</td>\n",
       "    </tr>\n",
       "    <tr>\n",
       "      <th>14</th>\n",
       "      <td>750</td>\n",
       "      <td>32.0+/-1.0</td>\n",
       "      <td>1.000203+/-0.000006</td>\n",
       "      <td>32.0+/-1.0</td>\n",
       "      <td>1.000203+/-0.000006</td>\n",
       "      <td>32.0+/-1.0</td>\n",
       "      <td>1.000203+/-0.000006</td>\n",
       "    </tr>\n",
       "    <tr>\n",
       "      <th>15</th>\n",
       "      <td>800</td>\n",
       "      <td>34.0+/-1.0</td>\n",
       "      <td>1.000215+/-0.000006</td>\n",
       "      <td>34.0+/-1.0</td>\n",
       "      <td>1.000215+/-0.000006</td>\n",
       "      <td>34.0+/-1.0</td>\n",
       "      <td>1.000215+/-0.000006</td>\n",
       "    </tr>\n",
       "    <tr>\n",
       "      <th>16</th>\n",
       "      <td>850</td>\n",
       "      <td>36.0+/-1.0</td>\n",
       "      <td>1.000228+/-0.000006</td>\n",
       "      <td>36.0+/-1.0</td>\n",
       "      <td>1.000228+/-0.000006</td>\n",
       "      <td>36.0+/-1.0</td>\n",
       "      <td>1.000228+/-0.000006</td>\n",
       "    </tr>\n",
       "    <tr>\n",
       "      <th>17</th>\n",
       "      <td>900</td>\n",
       "      <td>38.0+/-1.0</td>\n",
       "      <td>1.000241+/-0.000006</td>\n",
       "      <td>38.0+/-1.0</td>\n",
       "      <td>1.000247+/-0.000006</td>\n",
       "      <td>38.0+/-1.0</td>\n",
       "      <td>1.000241+/-0.000006</td>\n",
       "    </tr>\n",
       "    <tr>\n",
       "      <th>18</th>\n",
       "      <td>950</td>\n",
       "      <td>41.0+/-1.0</td>\n",
       "      <td>1.000260+/-0.000006</td>\n",
       "      <td>41.0+/-1.0</td>\n",
       "      <td>1.000260+/-0.000006</td>\n",
       "      <td>41.0+/-1.0</td>\n",
       "      <td>1.000260+/-0.000006</td>\n",
       "    </tr>\n",
       "    <tr>\n",
       "      <th>19</th>\n",
       "      <td>1000</td>\n",
       "      <td>42.0+/-1.0</td>\n",
       "      <td>1.000266+/-0.000006</td>\n",
       "      <td>42.0+/-1.0</td>\n",
       "      <td>1.000266+/-0.000006</td>\n",
       "      <td>42.0+/-1.0</td>\n",
       "      <td>1.000266+/-0.000006</td>\n",
       "    </tr>\n",
       "  </tbody>\n",
       "</table>\n",
       "</div>"
      ],
      "text/plain": [
       "       p         n_1                  N_1         n_2                  N_2  \\\n",
       "0     50   3.0+/-1.0  1.000019+/-0.000006   3.0+/-1.0  1.000013+/-0.000006   \n",
       "1    100   5.0+/-1.0  1.000032+/-0.000006   5.0+/-1.0  1.000025+/-0.000006   \n",
       "2    150   7.0+/-1.0  1.000044+/-0.000006   7.0+/-1.0  1.000038+/-0.000006   \n",
       "3    200   9.0+/-1.0  1.000057+/-0.000006   9.0+/-1.0  1.000057+/-0.000006   \n",
       "4    250  11.0+/-1.0  1.000070+/-0.000006  11.0+/-1.0  1.000070+/-0.000006   \n",
       "5    300  13.0+/-1.0  1.000082+/-0.000006  13.0+/-1.0  1.000082+/-0.000006   \n",
       "6    350  15.0+/-1.0  1.000095+/-0.000006  15.0+/-1.0  1.000095+/-0.000006   \n",
       "7    400  17.0+/-1.0  1.000108+/-0.000006  17.0+/-1.0  1.000108+/-0.000006   \n",
       "8    450  19.0+/-1.0  1.000120+/-0.000006  19.0+/-1.0  1.000120+/-0.000006   \n",
       "9    500  21.0+/-1.0  1.000133+/-0.000006  21.0+/-1.0  1.000133+/-0.000006   \n",
       "10   550  23.0+/-1.0  1.000146+/-0.000006  23.0+/-1.0  1.000146+/-0.000006   \n",
       "11   600  25.0+/-1.0  1.000158+/-0.000006  25.0+/-1.0  1.000158+/-0.000006   \n",
       "12   650  27.0+/-1.0  1.000171+/-0.000006  27.0+/-1.0  1.000171+/-0.000006   \n",
       "13   700  30.0+/-1.0  1.000190+/-0.000006  30.0+/-1.0  1.000190+/-0.000006   \n",
       "14   750  32.0+/-1.0  1.000203+/-0.000006  32.0+/-1.0  1.000203+/-0.000006   \n",
       "15   800  34.0+/-1.0  1.000215+/-0.000006  34.0+/-1.0  1.000215+/-0.000006   \n",
       "16   850  36.0+/-1.0  1.000228+/-0.000006  36.0+/-1.0  1.000228+/-0.000006   \n",
       "17   900  38.0+/-1.0  1.000241+/-0.000006  38.0+/-1.0  1.000247+/-0.000006   \n",
       "18   950  41.0+/-1.0  1.000260+/-0.000006  41.0+/-1.0  1.000260+/-0.000006   \n",
       "19  1000  42.0+/-1.0  1.000266+/-0.000006  42.0+/-1.0  1.000266+/-0.000006   \n",
       "\n",
       "           n_3                  N_3  \n",
       "0    3.0+/-1.0  1.000013+/-0.000006  \n",
       "1    5.0+/-1.0  1.000025+/-0.000006  \n",
       "2    7.0+/-1.0  1.000038+/-0.000006  \n",
       "3    9.0+/-1.0  1.000051+/-0.000006  \n",
       "4   11.0+/-1.0  1.000070+/-0.000006  \n",
       "5   13.0+/-1.0  1.000082+/-0.000006  \n",
       "6   15.0+/-1.0  1.000095+/-0.000006  \n",
       "7   17.0+/-1.0  1.000108+/-0.000006  \n",
       "8   19.0+/-1.0  1.000120+/-0.000006  \n",
       "9   21.0+/-1.0  1.000133+/-0.000006  \n",
       "10  23.0+/-1.0  1.000146+/-0.000006  \n",
       "11  25.0+/-1.0  1.000158+/-0.000006  \n",
       "12  27.0+/-1.0  1.000171+/-0.000006  \n",
       "13  30.0+/-1.0  1.000190+/-0.000006  \n",
       "14  32.0+/-1.0  1.000203+/-0.000006  \n",
       "15  34.0+/-1.0  1.000215+/-0.000006  \n",
       "16  36.0+/-1.0  1.000228+/-0.000006  \n",
       "17  38.0+/-1.0  1.000241+/-0.000006  \n",
       "18  41.0+/-1.0  1.000260+/-0.000006  \n",
       "19  42.0+/-1.0  1.000266+/-0.000006  "
      ]
     },
     "execution_count": 53,
     "metadata": {},
     "output_type": "execute_result"
    }
   ],
   "source": [
    "df2[\"N_1\"] = n_1\n",
    "df2[\"N_2\"] = n_2\n",
    "df2[\"N_3\"] = n_3\n",
    "\n",
    "df2[\"n_1\"] = m_1\n",
    "df2[\"n_2\"] = m_1\n",
    "df2[\"n_3\"] = m_1\n",
    "\n",
    "df2 = df2[['p', 'n_1', 'N_1', 'n_2', 'N_2', 'n_3', 'N_3']]\n",
    "df2"
   ]
  },
  {
   "cell_type": "code",
   "execution_count": 65,
   "metadata": {},
   "outputs": [],
   "source": [
    "def n_luft(a,b,p):\n",
    "    return (a * p)/(R * T_1) + b"
   ]
  },
  {
   "cell_type": "code",
   "execution_count": 66,
   "metadata": {},
   "outputs": [
    {
     "name": "stdout",
     "output_type": "stream",
     "text": [
      "[1.00000347e+00 6.41932468e-06]\n",
      "[2.94084707e-06 1.19655028e-07]\n",
      "1.0000035+/-0.0000029\n"
     ]
    }
   ],
   "source": [
    "param1, cov1 = curve_fit(n_luft, p * 100, unp.nominal_values(n_1), sigma=unp.std_devs(n_1), absolute_sigma=True)\n",
    "uncertainties1 = np.sqrt(np.diag(cov1))\n",
    "print(param1)\n",
    "print(uncertainties1)\n",
    "a1 = ufloat(param1[0], uncertainties1[0])\n",
    "print(a1)"
   ]
  },
  {
   "cell_type": "code",
   "execution_count": 56,
   "metadata": {},
   "outputs": [
    {
     "data": {
      "image/png": "[encoded data removed]",
      "text/plain": [
       "<Figure size 600x500 with 1 Axes>"
      ]
     },
     "metadata": {},
     "output_type": "display_data"
    }
   ],
   "source": [
    "p_lin = np.linspace(p.min(), p.max(), 100)\n",
    "plt.figure(figsize=(6,5))\n",
    "\n",
    "plt.errorbar(p, unp.nominal_values(n_1), yerr=unp.std_devs(n_1),  fmt='k.', label='Messung 1')\n",
    "plt.plot(p_lin, n_luft(p_lin * 100, *param1), 'r-', label='Fit')\n",
    "\n",
    "plt.xlabel(r\"$p \\, / \\, \\mathrm{mbar}$\")\n",
    "plt.ylabel('n')\n",
    "plt.legend()\n",
    "plt.show()\n"
   ]
  },
  {
   "cell_type": "code",
   "execution_count": 59,
   "metadata": {},
   "outputs": [],
   "source": [
    "def lor(a):\n",
    "    return 3/2 * (a * p_0)/(T_0 * R)"
   ]
  },
  {
   "cell_type": "code",
   "execution_count": 60,
   "metadata": {},
   "outputs": [
    {
     "name": "stdout",
     "output_type": "stream",
     "text": [
      "63.42691+/-0.00019\n"
     ]
    }
   ],
   "source": [
    "print(lor(a1))"
   ]
  },
  {
   "cell_type": "code",
   "execution_count": null,
   "metadata": {},
   "outputs": [],
   "source": []
  },
  {
   "cell_type": "code",
   "execution_count": null,
   "metadata": {},
   "outputs": [],
   "source": [
    "\n"
   ]
  }
 ],
 "metadata": {
  "kernelspec": {
   "display_name": "Python 3 (ipykernel)",
   "language": "python",
   "name": "python3"
  },
  "language_info": {
   "codemirror_mode": {
    "name": "ipython",
    "version": 3
   },
   "file_extension": ".py",
   "mimetype": "text/x-python",
   "name": "python",
   "nbconvert_exporter": "python",
   "pygments_lexer": "ipython3",
   "version": "3.10.6"
  },
  "vscode": {
   "interpreter": {
    "hash": "916dbcbb3f70747c44a77c7bcd40155683ae19c65e1c03b4aa3499c5328201f1"
   }
  }
 },
 "nbformat": 4,
 "nbformat_minor": 2
}
